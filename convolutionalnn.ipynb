{
 "cells": [
  {
   "cell_type": "code",
   "execution_count": 15,
   "metadata": {},
   "outputs": [],
   "source": [
    "import keras\n",
    "from keras.models import Sequential\n",
    "from keras.layers import Dense\n",
    "from keras.utils import to_categorical\n",
    "from keras.layers import Conv2D # to add convolutional layers\n",
    "from keras.layers import MaxPooling2D # to add pooling layers\n",
    "from keras.layers import Flatten # to flatten data for fully connected layers"
   ]
  },
  {
   "cell_type": "code",
   "execution_count": 16,
   "metadata": {},
   "outputs": [],
   "source": [
    "# Convolutional layer with one set of convolutional and pooling layers\n",
    "from keras.datasets import mnist\n",
    "\n",
    "# load data\n",
    "(X_train, y_train), (X_test, y_test) = mnist.load_data()\n",
    "\n",
    "# Reshape to be [samples][pixels][w][h]\n",
    "X_train = X_train.reshape(X_train.shape[0], 28, 28, 1).astype('float32')\n",
    "X_test = X_test.reshape(X_test.shape[0], 28, 28, 1).astype('float32')\n"
   ]
  },
  {
   "cell_type": "code",
   "execution_count": 17,
   "metadata": {},
   "outputs": [],
   "source": [
    "# Normalize the pixel values to be [0,1]\n",
    "X_train = X_train / 255\n",
    "X_test = X_test / 255"
   ]
  },
  {
   "cell_type": "code",
   "execution_count": 18,
   "metadata": {},
   "outputs": [
    {
     "name": "stdout",
     "output_type": "stream",
     "text": [
      "(60000, 10)\n",
      "(10000, 10)\n",
      "10\n"
     ]
    }
   ],
   "source": [
    "# Convert target variable into binary categories\n",
    "y_train = to_categorical(y_train)\n",
    "y_test = to_categorical(y_test)\n",
    "\n",
    "num_classes = y_test.shape[1]\n",
    "\n",
    "print(y_train.shape)\n",
    "print(y_test.shape)\n",
    "\n",
    "print(num_classes)"
   ]
  },
  {
   "cell_type": "code",
   "execution_count": 19,
   "metadata": {},
   "outputs": [],
   "source": [
    "# Define a function that creates the model\n",
    "\n",
    "def convolutional_model():\n",
    "\n",
    "    # Create model\n",
    "    model = Sequential()\n",
    "    model.add(Conv2D(16, (5,5), strides=(1,1), activation='relu', input_shape=(28,28,1)))\n",
    "    model.add(MaxPooling2D(pool_size=(2,2), strides=(2,2)))\n",
    "\n",
    "    model.add(Flatten())\n",
    "    model.add(Dense(100, activation='relu'))\n",
    "    model.add(Dense(num_classes, activation='softmax'))\n",
    "\n",
    "    # Compile model\n",
    "    model.compile(optimizer='adam', loss='categorical_crossentropy', metrics=['accuracy'])\n",
    "    return model"
   ]
  },
  {
   "cell_type": "code",
   "execution_count": 20,
   "metadata": {},
   "outputs": [
    {
     "name": "stdout",
     "output_type": "stream",
     "text": [
      "Epoch 1/10\n",
      "300/300 - 8s - 26ms/step - accuracy: 0.9220 - loss: 0.2791 - val_accuracy: 0.9732 - val_loss: 0.0939\n",
      "Epoch 2/10\n",
      "300/300 - 6s - 21ms/step - accuracy: 0.9765 - loss: 0.0810 - val_accuracy: 0.9816 - val_loss: 0.0573\n",
      "Epoch 3/10\n",
      "300/300 - 6s - 20ms/step - accuracy: 0.9840 - loss: 0.0556 - val_accuracy: 0.9839 - val_loss: 0.0499\n",
      "Epoch 4/10\n",
      "300/300 - 6s - 21ms/step - accuracy: 0.9869 - loss: 0.0435 - val_accuracy: 0.9839 - val_loss: 0.0463\n",
      "Epoch 5/10\n",
      "300/300 - 7s - 22ms/step - accuracy: 0.9898 - loss: 0.0345 - val_accuracy: 0.9852 - val_loss: 0.0443\n",
      "Epoch 6/10\n",
      "300/300 - 7s - 22ms/step - accuracy: 0.9914 - loss: 0.0285 - val_accuracy: 0.9875 - val_loss: 0.0369\n",
      "Epoch 7/10\n",
      "300/300 - 6s - 21ms/step - accuracy: 0.9930 - loss: 0.0233 - val_accuracy: 0.9841 - val_loss: 0.0455\n",
      "Epoch 8/10\n",
      "300/300 - 6s - 21ms/step - accuracy: 0.9938 - loss: 0.0205 - val_accuracy: 0.9888 - val_loss: 0.0352\n",
      "Epoch 9/10\n",
      "300/300 - 6s - 21ms/step - accuracy: 0.9953 - loss: 0.0161 - val_accuracy: 0.9888 - val_loss: 0.0358\n",
      "Epoch 10/10\n",
      "300/300 - 6s - 20ms/step - accuracy: 0.9961 - loss: 0.0137 - val_accuracy: 0.9883 - val_loss: 0.0376\n",
      "Accuracy: 0.9883000254631042 \n",
      " Error: 1.1699974536895752\n"
     ]
    }
   ],
   "source": [
    "# Build the model\n",
    "model = convolutional_model()\n",
    "\n",
    "# fit the model\n",
    "model.fit(X_train, y_train, validation_data=(X_test,y_test), epochs=10, batch_size=200, verbose=2)\n",
    "\n",
    "# Evaluate the model\n",
    "scores = model.evaluate(X_test, y_test, verbose=0)\n",
    "print(\"Accuracy: {} \\n Error: {}\".format(scores[1], 100-scores[1]*100))\n"
   ]
  },
  {
   "cell_type": "code",
   "execution_count": 21,
   "metadata": {},
   "outputs": [],
   "source": [
    "# Redefine function so that it has 2 convolutional and pooling layers\n",
    "\n",
    "def convolutional_model_2():\n",
    "\n",
    "    # Create model\n",
    "    model = Sequential()\n",
    "    model.add(Conv2D(16, (5,5), activation='relu', input_shape=(28,28,1)))\n",
    "    model.add(MaxPooling2D(pool_size=(2,2), strides=(2,2)))\n",
    "\n",
    "    model.add(Conv2D(8,(2,2), activation='relu'))\n",
    "    model.add(MaxPooling2D(pool_size=(2,2), strides=(2,2)))\n",
    "\n",
    "    model.add(Flatten())\n",
    "    model.add(Dense(100, activation='relu'))\n",
    "    model.add(Dense(num_classes, activation='softmax'))\n",
    "\n",
    "    # Compile model\n",
    "    model.compile(optimizer='adam', loss='categorical_crossentropy', metrics=['accuracy'])\n",
    "    return model"
   ]
  },
  {
   "cell_type": "code",
   "execution_count": 22,
   "metadata": {},
   "outputs": [
    {
     "name": "stderr",
     "output_type": "stream",
     "text": [
      "/home/ap/miniconda3/envs/regression_keras/lib/python3.12/site-packages/keras/src/layers/convolutional/base_conv.py:107: UserWarning: Do not pass an `input_shape`/`input_dim` argument to a layer. When using Sequential models, prefer using an `Input(shape)` object as the first layer in the model instead.\n",
      "  super().__init__(activity_regularizer=activity_regularizer, **kwargs)\n"
     ]
    },
    {
     "name": "stdout",
     "output_type": "stream",
     "text": [
      "Epoch 1/10\n",
      "300/300 - 8s - 26ms/step - accuracy: 0.8683 - loss: 0.4741 - val_accuracy: 0.9583 - val_loss: 0.1475\n",
      "Epoch 2/10\n",
      "300/300 - 7s - 24ms/step - accuracy: 0.9633 - loss: 0.1232 - val_accuracy: 0.9738 - val_loss: 0.0870\n",
      "Epoch 3/10\n",
      "300/300 - 7s - 24ms/step - accuracy: 0.9743 - loss: 0.0848 - val_accuracy: 0.9751 - val_loss: 0.0759\n",
      "Epoch 4/10\n",
      "300/300 - 7s - 24ms/step - accuracy: 0.9794 - loss: 0.0667 - val_accuracy: 0.9808 - val_loss: 0.0597\n",
      "Epoch 5/10\n",
      "300/300 - 7s - 24ms/step - accuracy: 0.9821 - loss: 0.0577 - val_accuracy: 0.9841 - val_loss: 0.0466\n",
      "Epoch 6/10\n",
      "300/300 - 7s - 23ms/step - accuracy: 0.9847 - loss: 0.0494 - val_accuracy: 0.9854 - val_loss: 0.0446\n",
      "Epoch 7/10\n",
      "300/300 - 7s - 23ms/step - accuracy: 0.9862 - loss: 0.0446 - val_accuracy: 0.9871 - val_loss: 0.0392\n",
      "Epoch 8/10\n",
      "300/300 - 7s - 22ms/step - accuracy: 0.9880 - loss: 0.0399 - val_accuracy: 0.9869 - val_loss: 0.0396\n",
      "Epoch 9/10\n",
      "300/300 - 7s - 23ms/step - accuracy: 0.9890 - loss: 0.0354 - val_accuracy: 0.9878 - val_loss: 0.0350\n",
      "Epoch 10/10\n",
      "300/300 - 7s - 23ms/step - accuracy: 0.9903 - loss: 0.0322 - val_accuracy: 0.9884 - val_loss: 0.0348\n",
      "Accuracy: 0.9883999824523926 \n",
      " Error: 1.1600017547607422\n"
     ]
    }
   ],
   "source": [
    "# Build the model\n",
    "model = convolutional_model_2()\n",
    "\n",
    "# Fit the model\n",
    "model.fit(X_train,y_train, validation_data=(X_test,y_test), epochs=10, batch_size=200, verbose=2)\n",
    "\n",
    "# Evaluate the model\n",
    "scores = model.evaluate(X_test, y_test, verbose=0)\n",
    "print(\"Accuracy: {} \\n Error: {}\".format(scores[1], 100-scores[1]*100))"
   ]
  }
 ],
 "metadata": {
  "kernelspec": {
   "display_name": "regression_keras",
   "language": "python",
   "name": "python3"
  },
  "language_info": {
   "codemirror_mode": {
    "name": "ipython",
    "version": 3
   },
   "file_extension": ".py",
   "mimetype": "text/x-python",
   "name": "python",
   "nbconvert_exporter": "python",
   "pygments_lexer": "ipython3",
   "version": "3.12.3"
  }
 },
 "nbformat": 4,
 "nbformat_minor": 2
}
